{
  "nbformat": 4,
  "nbformat_minor": 0,
  "metadata": {
    "colab": {
      "name": "4_Customer_Churn_Model-Binary_Classification.ipynb",
      "provenance": [],
      "mount_file_id": "1VgmAVrD5J8axzGs5z5hKnClW-U-n2iyl",
      "authorship_tag": "ABX9TyPT0am687KaMBkFC/z1QgMA",
      "include_colab_link": true
    },
    "kernelspec": {
      "name": "python3",
      "display_name": "Python 3"
    }
  },
  "cells": [
    {
      "cell_type": "markdown",
      "metadata": {
        "id": "view-in-github",
        "colab_type": "text"
      },
      "source": [
        "<a href=\"https://colab.research.google.com/github/finlytics-hub/marketing_analytics-customer_churn/blob/master/Customer_Churn_Model_Binary_Classification.ipynb\" target=\"_parent\"><img src=\"https://colab.research.google.com/assets/colab-badge.svg\" alt=\"Open In Colab\"/></a>"
      ]
    },
    {
      "cell_type": "code",
      "metadata": {
        "id": "ua1PvCstMj6E",
        "colab_type": "code",
        "colab": {}
      },
      "source": [
        "# Importing libraries\n",
        "import pandas as pd\n",
        "import numpy as np\n",
        "import matplotlib.pyplot as plt\n",
        "import seaborn as sns\n",
        "from sklearn.model_selection import train_test_split, GridSearchCV\n",
        "from sklearn.linear_model import LogisticRegression\n",
        "from sklearn.tree import DecisionTreeClassifier\n",
        "from sklearn.ensemble import RandomForestClassifier\n",
        "from sklearn.metrics import confusion_matrix, precision_score, recall_score, roc_curve, roc_auc_score, f1_score, accuracy_score\n",
        "import xgboost as xgb\n",
        "from xgboost import XGBClassifier"
      ],
      "execution_count": 0,
      "outputs": []
    },
    {
      "cell_type": "code",
      "metadata": {
        "id": "D9gYdG-oNJQv",
        "colab_type": "code",
        "colab": {}
      },
      "source": [
        "# Import data set\n",
        "telco = pd.read_csv(\"/content/drive/My Drive/Finlytics Hub/Data Science/Customer Analytics/Telco_Churn.csv\")"
      ],
      "execution_count": 0,
      "outputs": []
    },
    {
      "cell_type": "markdown",
      "metadata": {
        "id": "8D0Qq4XnNUzy",
        "colab_type": "text"
      },
      "source": [
        "## Exploratory Data Analysis"
      ]
    },
    {
      "cell_type": "code",
      "metadata": {
        "id": "irRPn1puNTdo",
        "colab_type": "code",
        "outputId": "962afaa3-8c28-4b9b-8157-5659a8874eec",
        "colab": {
          "base_uri": "https://localhost:8080/",
          "height": 493
        }
      },
      "source": [
        "telco.info()"
      ],
      "execution_count": 15,
      "outputs": [
        {
          "output_type": "stream",
          "text": [
            "<class 'pandas.core.frame.DataFrame'>\n",
            "RangeIndex: 3333 entries, 0 to 3332\n",
            "Data columns (total 21 columns):\n",
            " #   Column          Non-Null Count  Dtype  \n",
            "---  ------          --------------  -----  \n",
            " 0   Account_Length  3333 non-null   int64  \n",
            " 1   Vmail_Message   3333 non-null   int64  \n",
            " 2   Day_Mins        3333 non-null   float64\n",
            " 3   Eve_Mins        3333 non-null   float64\n",
            " 4   Night_Mins      3333 non-null   float64\n",
            " 5   Intl_Mins       3333 non-null   float64\n",
            " 6   CustServ_Calls  3333 non-null   int64  \n",
            " 7   Churn           3333 non-null   object \n",
            " 8   Intl_Plan       3333 non-null   object \n",
            " 9   Vmail_Plan      3333 non-null   object \n",
            " 10  Day_Calls       3333 non-null   int64  \n",
            " 11  Day_Charge      3333 non-null   float64\n",
            " 12  Eve_Calls       3333 non-null   int64  \n",
            " 13  Eve_Charge      3333 non-null   float64\n",
            " 14  Night_Calls     3333 non-null   int64  \n",
            " 15  Night_Charge    3333 non-null   float64\n",
            " 16  Intl_Calls      3333 non-null   int64  \n",
            " 17  Intl_Charge     3333 non-null   float64\n",
            " 18  State           3333 non-null   object \n",
            " 19  Area_Code       3333 non-null   int64  \n",
            " 20  Phone           3333 non-null   object \n",
            "dtypes: float64(8), int64(8), object(5)\n",
            "memory usage: 546.9+ KB\n"
          ],
          "name": "stdout"
        }
      ]
    },
    {
      "cell_type": "code",
      "metadata": {
        "id": "XnVi_q4MNa7-",
        "colab_type": "code",
        "outputId": "0820d62b-859f-4fb7-bda6-0994ef8eddbc",
        "colab": {
          "base_uri": "https://localhost:8080/",
          "height": 68
        }
      },
      "source": [
        "telco[\"Churn\"].value_counts()"
      ],
      "execution_count": 0,
      "outputs": [
        {
          "output_type": "execute_result",
          "data": {
            "text/plain": [
              "no     2850\n",
              "yes     483\n",
              "Name: Churn, dtype: int64"
            ]
          },
          "metadata": {
            "tags": []
          },
          "execution_count": 4
        }
      ]
    },
    {
      "cell_type": "code",
      "metadata": {
        "id": "6TdYtuipN-Sd",
        "colab_type": "code",
        "outputId": "e1f0dc7d-eb02-4079-83b4-235a2cc0c8d5",
        "colab": {
          "base_uri": "https://localhost:8080/",
          "height": 85
        }
      },
      "source": [
        "# Group telco by 'Churn' and compute the mean of CustServ_Calls and Vmail_Message\n",
        "print(telco.groupby(\"Churn\")[[\"CustServ_Calls\", \"Vmail_Message\"]].mean())"
      ],
      "execution_count": 0,
      "outputs": [
        {
          "output_type": "stream",
          "text": [
            "       CustServ_Calls  Vmail_Message\n",
            "Churn                               \n",
            "no           1.449825       8.604561\n",
            "yes          2.229814       5.115942\n"
          ],
          "name": "stdout"
        }
      ]
    },
    {
      "cell_type": "code",
      "metadata": {
        "id": "j1F5qV7PRYPn",
        "colab_type": "code",
        "outputId": "600b957c-b7e0-4287-ce2e-f572c7944bc6",
        "colab": {
          "base_uri": "https://localhost:8080/",
          "height": 85
        }
      },
      "source": [
        "# Group telco by 'Churn' and compute the standard deviation of CustServ_Calls and Vmail_Message\n",
        "print(telco.groupby(\"Churn\")[[\"CustServ_Calls\", \"Vmail_Message\"]].std())"
      ],
      "execution_count": 0,
      "outputs": [
        {
          "output_type": "stream",
          "text": [
            "       CustServ_Calls  Vmail_Message\n",
            "Churn                               \n",
            "no           1.163883      13.913125\n",
            "yes          1.853275      11.860138\n"
          ],
          "name": "stdout"
        }
      ]
    },
    {
      "cell_type": "code",
      "metadata": {
        "id": "lt0dqw-oRaYH",
        "colab_type": "code",
        "outputId": "714b76bd-dd24-4fc5-a4b4-e364fd75723c",
        "colab": {
          "base_uri": "https://localhost:8080/",
          "height": 238
        }
      },
      "source": [
        "# Count the number of churners and non-churners by State\n",
        "print(telco.groupby('State')['Churn'].value_counts())"
      ],
      "execution_count": 0,
      "outputs": [
        {
          "output_type": "stream",
          "text": [
            "State  Churn\n",
            "AK     no       49\n",
            "       yes       3\n",
            "AL     no       72\n",
            "       yes       8\n",
            "AR     no       44\n",
            "                ..\n",
            "WI     yes       7\n",
            "WV     no       96\n",
            "       yes      10\n",
            "WY     no       68\n",
            "       yes       9\n",
            "Name: Churn, Length: 102, dtype: int64\n"
          ],
          "name": "stdout"
        }
      ]
    },
    {
      "cell_type": "code",
      "metadata": {
        "id": "hA1_MjduTxPf",
        "colab_type": "code",
        "outputId": "123757a9-95d7-4222-cd2f-55e4c218eba7",
        "colab": {
          "base_uri": "https://localhost:8080/",
          "height": 498
        }
      },
      "source": [
        "# Visualize the distribution of five features\n",
        "fig = plt.figure(figsize = (15,8))\n",
        "plt.subplot(3, 2, 1, xlabel = \"Account Length\")\n",
        "sns.distplot(telco[\"Account_Length\"])\n",
        "plt.subplot(3, 2, 2, xlabel = \"Day Mins\")\n",
        "sns.distplot(telco[\"Day_Mins\"])\n",
        "plt.subplot(3, 2, 3, xlabel = \"Evening Minutes\")\n",
        "sns.distplot(telco[\"Eve_Mins\"])\n",
        "plt.subplot(3, 2, 4, xlabel = \"Night Minutes\")\n",
        "sns.distplot(telco[\"Night_Mins\"])\n",
        "plt.subplot(3, 2, 5, xlabel = \"International Minutes\")\n",
        "sns.distplot(telco[\"Intl_Mins\"])\n",
        "plt.subplots_adjust(hspace = 0.3) # Increase the vertical space between subplots so that the x labels can be visible\n",
        "plt.show()"
      ],
      "execution_count": 0,
      "outputs": [
        {
          "output_type": "display_data",
          "data": {
            "image/png": "[encoded data removed]",
            "text/plain": [
              "<Figure size 1080x576 with 5 Axes>"
            ]
          },
          "metadata": {
            "tags": [],
            "needs_background": "light"
          }
        }
      ]
    },
    {
      "cell_type": "markdown",
      "metadata": {
        "id": "EPEhP7ryVI65",
        "colab_type": "text"
      },
      "source": [
        "All appear to be more or less normally distributed, therefore no feature transformation is required. If this was not the case, then we could have explored some transformations (MinMax scaling, normalization, binning, etc.) to improve our model accuracy."
      ]
    },
    {
      "cell_type": "code",
      "metadata": {
        "id": "gqLr6HlXVgjH",
        "colab_type": "code",
        "outputId": "e4326936-e1e7-4f9b-810d-b6b157def2d3",
        "colab": {
          "base_uri": "https://localhost:8080/",
          "height": 85
        }
      },
      "source": [
        "# Group telco by 'Churn' and compute the mean of Account_Length\n",
        "print(telco.groupby(\"Churn\")[['Account_Length']].mean())"
      ],
      "execution_count": 0,
      "outputs": [
        {
          "output_type": "stream",
          "text": [
            "       Account_Length\n",
            "Churn                \n",
            "no         100.793684\n",
            "yes        102.664596\n"
          ],
          "name": "stdout"
        }
      ]
    },
    {
      "cell_type": "code",
      "metadata": {
        "id": "vq_n96WDU5WT",
        "colab_type": "code",
        "outputId": "474ee42f-f79b-410b-cd76-aae4ffd05a7a",
        "colab": {
          "base_uri": "https://localhost:8080/",
          "height": 279
        }
      },
      "source": [
        "# Visualize Account_Length between churners and non-churners\n",
        "sns.boxplot(x = 'Churn', y = 'Account_Length', data = telco, sym = \"\")\n",
        "plt.show()"
      ],
      "execution_count": 0,
      "outputs": [
        {
          "output_type": "display_data",
          "data": {
            "image/png": "[encoded data removed]",
            "text/plain": [
              "<Figure size 432x288 with 1 Axes>"
            ]
          },
          "metadata": {
            "tags": [],
            "needs_background": "light"
          }
        }
      ]
    },
    {
      "cell_type": "markdown",
      "metadata": {
        "id": "GiIoUeP3VtEB",
        "colab_type": "text"
      },
      "source": [
        "This is pretty strange as the Account_Length does not appear to be correlated with a customer's churn!"
      ]
    },
    {
      "cell_type": "code",
      "metadata": {
        "id": "pacatNCJceKv",
        "colab_type": "code",
        "outputId": "446b98b1-fbd1-46af-e7b2-f7a0bbe66e78",
        "colab": {
          "base_uri": "https://localhost:8080/",
          "height": 279
        }
      },
      "source": [
        "# Visualise distribution\n",
        "sns.boxplot(x = 'Churn', y = 'CustServ_Calls', data = telco)\n",
        "plt.show()"
      ],
      "execution_count": 0,
      "outputs": [
        {
          "output_type": "display_data",
          "data": {
            "image/png": "[encoded data removed]",
            "text/plain": [
              "<Figure size 432x288 with 1 Axes>"
            ]
          },
          "metadata": {
            "tags": [],
            "needs_background": "light"
          }
        }
      ]
    },
    {
      "cell_type": "markdown",
      "metadata": {
        "id": "zzr3lzplfMcD",
        "colab_type": "text"
      },
      "source": [
        "Quite a visible distribution of count of customer service calls between churners and non-churners with churners also having a few outliers."
      ]
    },
    {
      "cell_type": "code",
      "metadata": {
        "id": "knjmhuvMfWUw",
        "colab_type": "code",
        "outputId": "38b52e17-1761-47bd-bd97-ca77652e90d1",
        "colab": {
          "base_uri": "https://localhost:8080/",
          "height": 279
        }
      },
      "source": [
        "# Visualise distribution after excluding outliers from the boxplot\n",
        "sns.boxplot(x = 'Churn', y = 'CustServ_Calls', data = telco, sym = \"\")\n",
        "plt.show()"
      ],
      "execution_count": 0,
      "outputs": [
        {
          "output_type": "display_data",
          "data": {
            "image/png": "[encoded data removed]",
            "text/plain": [
              "<Figure size 432x288 with 1 Axes>"
            ]
          },
          "metadata": {
            "tags": [],
            "needs_background": "light"
          }
        }
      ]
    },
    {
      "cell_type": "markdown",
      "metadata": {
        "id": "aMUoG8u3gWy5",
        "colab_type": "text"
      },
      "source": [
        "Looks like churners make more customer service calls"
      ]
    },
    {
      "cell_type": "code",
      "metadata": {
        "id": "A_SdMT-gfeKY",
        "colab_type": "code",
        "outputId": "83e625b6-eaa0-4e67-860d-827b0db5288c",
        "colab": {
          "base_uri": "https://localhost:8080/",
          "height": 279
        }
      },
      "source": [
        "# Visualise distribution excluding outliers with a third parameter for voice mail plan\n",
        "sns.boxplot(x = 'Churn', y = 'CustServ_Calls', data = telco, hue = \"Vmail_Plan\", sym = \"\")\n",
        "plt.show()"
      ],
      "execution_count": 0,
      "outputs": [
        {
          "output_type": "display_data",
          "data": {
            "image/png": "[encoded data removed]",
            "text/plain": [
              "<Figure size 432x288 with 1 Axes>"
            ]
          },
          "metadata": {
            "tags": [],
            "needs_background": "light"
          }
        }
      ]
    },
    {
      "cell_type": "code",
      "metadata": {
        "id": "kohOyk1mfvrp",
        "colab_type": "code",
        "outputId": "e03c52e9-86a9-4a59-b8ae-78ede8c323c0",
        "colab": {
          "base_uri": "https://localhost:8080/",
          "height": 279
        }
      },
      "source": [
        "# Not much of a difference between presence of a voice mail plan or not. Let's retry with international plan instead of voice mail plan\n",
        "# Visualise distribution excluding outliers with a third parameter for voice mail plan\n",
        "sns.boxplot(x = 'Churn', y = 'CustServ_Calls', data = telco, hue = \"Intl_Plan\", sym = \"\")\n",
        "plt.show()"
      ],
      "execution_count": 0,
      "outputs": [
        {
          "output_type": "display_data",
          "data": {
            "image/png": "[encoded data removed]",
            "text/plain": [
              "<Figure size 432x288 with 1 Axes>"
            ]
          },
          "metadata": {
            "tags": [],
            "needs_background": "light"
          }
        }
      ]
    },
    {
      "cell_type": "markdown",
      "metadata": {
        "id": "j9fLUArpgCi5",
        "colab_type": "text"
      },
      "source": [
        "Looks like churners with international plan make more customer service calls while those churners with no international plan make fewer customer service calls."
      ]
    },
    {
      "cell_type": "markdown",
      "metadata": {
        "id": "YLKf3T72gKUE",
        "colab_type": "text"
      },
      "source": [
        "## Data Preprocessing"
      ]
    },
    {
      "cell_type": "code",
      "metadata": {
        "id": "sQOX-dt8g1k8",
        "colab_type": "code",
        "outputId": "7c8526a7-b7f6-49fe-d3b1-c926538b859f",
        "colab": {
          "base_uri": "https://localhost:8080/",
          "height": 323
        }
      },
      "source": [
        "# Encoding binary features\n",
        "\n",
        "# Replace 'no' with 0 and 'yes' with 1 in 'Vmail_Plan'\n",
        "telco['Vmail_Plan'] = telco['Vmail_Plan'].replace({\"no\": 0, \"yes\": 1})\n",
        "\n",
        "# Replace 'no' with 0 and 'yes' with 1 in 'Intl_Plan'\n",
        "telco['Intl_Plan'] = telco['Intl_Plan'].replace({\"no\": 0, \"yes\": 1})\n",
        "\n",
        "# Replace 'no' with 0 and 'yes' with 1 in 'Churn'\n",
        "telco['Churn'] = telco['Churn'].replace({\"no\": 0, \"yes\": 1})\n",
        "\n",
        "# Print the results to verify\n",
        "print(telco['Intl_Plan'].head())\n",
        "print(telco['Vmail_Plan'].head())\n",
        "print(telco['Churn'].head())"
      ],
      "execution_count": 16,
      "outputs": [
        {
          "output_type": "stream",
          "text": [
            "0    0\n",
            "1    0\n",
            "2    0\n",
            "3    1\n",
            "4    1\n",
            "Name: Intl_Plan, dtype: int64\n",
            "0    1\n",
            "1    1\n",
            "2    0\n",
            "3    0\n",
            "4    0\n",
            "Name: Vmail_Plan, dtype: int64\n",
            "0    0\n",
            "1    0\n",
            "2    0\n",
            "3    0\n",
            "4    0\n",
            "Name: Churn, dtype: int64\n"
          ],
          "name": "stdout"
        }
      ]
    },
    {
      "cell_type": "code",
      "metadata": {
        "id": "2mdxBwTXi549",
        "colab_type": "code",
        "outputId": "511b319b-f7d9-4caa-8dbb-310fd2522b3f",
        "colab": {
          "base_uri": "https://localhost:8080/",
          "height": 1000
        }
      },
      "source": [
        "# One hot encoding the State feature\n",
        "telco = pd.get_dummies(telco, columns = [\"State\"], drop_first = True)\n",
        "telco.info()"
      ],
      "execution_count": 17,
      "outputs": [
        {
          "output_type": "stream",
          "text": [
            "<class 'pandas.core.frame.DataFrame'>\n",
            "RangeIndex: 3333 entries, 0 to 3332\n",
            "Data columns (total 70 columns):\n",
            " #   Column          Non-Null Count  Dtype  \n",
            "---  ------          --------------  -----  \n",
            " 0   Account_Length  3333 non-null   int64  \n",
            " 1   Vmail_Message   3333 non-null   int64  \n",
            " 2   Day_Mins        3333 non-null   float64\n",
            " 3   Eve_Mins        3333 non-null   float64\n",
            " 4   Night_Mins      3333 non-null   float64\n",
            " 5   Intl_Mins       3333 non-null   float64\n",
            " 6   CustServ_Calls  3333 non-null   int64  \n",
            " 7   Churn           3333 non-null   int64  \n",
            " 8   Intl_Plan       3333 non-null   int64  \n",
            " 9   Vmail_Plan      3333 non-null   int64  \n",
            " 10  Day_Calls       3333 non-null   int64  \n",
            " 11  Day_Charge      3333 non-null   float64\n",
            " 12  Eve_Calls       3333 non-null   int64  \n",
            " 13  Eve_Charge      3333 non-null   float64\n",
            " 14  Night_Calls     3333 non-null   int64  \n",
            " 15  Night_Charge    3333 non-null   float64\n",
            " 16  Intl_Calls      3333 non-null   int64  \n",
            " 17  Intl_Charge     3333 non-null   float64\n",
            " 18  Area_Code       3333 non-null   int64  \n",
            " 19  Phone           3333 non-null   object \n",
            " 20  State_AL        3333 non-null   uint8  \n",
            " 21  State_AR        3333 non-null   uint8  \n",
            " 22  State_AZ        3333 non-null   uint8  \n",
            " 23  State_CA        3333 non-null   uint8  \n",
            " 24  State_CO        3333 non-null   uint8  \n",
            " 25  State_CT        3333 non-null   uint8  \n",
            " 26  State_DC        3333 non-null   uint8  \n",
            " 27  State_DE        3333 non-null   uint8  \n",
            " 28  State_FL        3333 non-null   uint8  \n",
            " 29  State_GA        3333 non-null   uint8  \n",
            " 30  State_HI        3333 non-null   uint8  \n",
            " 31  State_IA        3333 non-null   uint8  \n",
            " 32  State_ID        3333 non-null   uint8  \n",
            " 33  State_IL        3333 non-null   uint8  \n",
            " 34  State_IN        3333 non-null   uint8  \n",
            " 35  State_KS        3333 non-null   uint8  \n",
            " 36  State_KY        3333 non-null   uint8  \n",
            " 37  State_LA        3333 non-null   uint8  \n",
            " 38  State_MA        3333 non-null   uint8  \n",
            " 39  State_MD        3333 non-null   uint8  \n",
            " 40  State_ME        3333 non-null   uint8  \n",
            " 41  State_MI        3333 non-null   uint8  \n",
            " 42  State_MN        3333 non-null   uint8  \n",
            " 43  State_MO        3333 non-null   uint8  \n",
            " 44  State_MS        3333 non-null   uint8  \n",
            " 45  State_MT        3333 non-null   uint8  \n",
            " 46  State_NC        3333 non-null   uint8  \n",
            " 47  State_ND        3333 non-null   uint8  \n",
            " 48  State_NE        3333 non-null   uint8  \n",
            " 49  State_NH        3333 non-null   uint8  \n",
            " 50  State_NJ        3333 non-null   uint8  \n",
            " 51  State_NM        3333 non-null   uint8  \n",
            " 52  State_NV        3333 non-null   uint8  \n",
            " 53  State_NY        3333 non-null   uint8  \n",
            " 54  State_OH        3333 non-null   uint8  \n",
            " 55  State_OK        3333 non-null   uint8  \n",
            " 56  State_OR        3333 non-null   uint8  \n",
            " 57  State_PA        3333 non-null   uint8  \n",
            " 58  State_RI        3333 non-null   uint8  \n",
            " 59  State_SC        3333 non-null   uint8  \n",
            " 60  State_SD        3333 non-null   uint8  \n",
            " 61  State_TN        3333 non-null   uint8  \n",
            " 62  State_TX        3333 non-null   uint8  \n",
            " 63  State_UT        3333 non-null   uint8  \n",
            " 64  State_VA        3333 non-null   uint8  \n",
            " 65  State_VT        3333 non-null   uint8  \n",
            " 66  State_WA        3333 non-null   uint8  \n",
            " 67  State_WI        3333 non-null   uint8  \n",
            " 68  State_WV        3333 non-null   uint8  \n",
            " 69  State_WY        3333 non-null   uint8  \n",
            "dtypes: float64(8), int64(11), object(1), uint8(50)\n",
            "memory usage: 683.7+ KB\n"
          ],
          "name": "stdout"
        }
      ]
    },
    {
      "cell_type": "markdown",
      "metadata": {
        "id": "uWBA_qfEtvNN",
        "colab_type": "text"
      },
      "source": [
        "## Feature Selection and Feature Engineering"
      ]
    },
    {
      "cell_type": "code",
      "metadata": {
        "id": "w5OHz6pVtRXi",
        "colab_type": "code",
        "colab": {}
      },
      "source": [
        "# Drop the unnecessary features\n",
        "telco = telco.drop([\"Area_Code\", \"Phone\"], axis = 1)"
      ],
      "execution_count": 0,
      "outputs": []
    },
    {
      "cell_type": "code",
      "metadata": {
        "id": "BLRfLrpQuQ6x",
        "colab_type": "code",
        "colab": {}
      },
      "source": [
        "# Adding new features\n",
        "telco['Total_Mins'] = telco[\"Night_Mins\"] + telco[\"Eve_Mins\"] + telco[\"Day_Mins\"] + telco[\"Intl_Mins\"]\n",
        "telco['Total_Charge'] = telco[\"Night_Charge\"] + telco[\"Eve_Charge\"] + telco[\"Day_Charge\"] + telco[\"Intl_Charge\"]\n",
        "telco['Total_Calls'] = telco[\"Night_Calls\"] + telco[\"Eve_Calls\"] + telco[\"Day_Calls\"] + telco[\"Intl_Calls\"]\n",
        "telco[\"Min_Call\"] = telco[\"Total_Mins\"] / telco[\"Total_Calls\"]\n",
        "telco[\"Cost_Call\"] = telco[\"Total_Charge\"] / telco[\"Total_Calls\"]"
      ],
      "execution_count": 0,
      "outputs": []
    },
    {
      "cell_type": "code",
      "metadata": {
        "id": "Wqv_WrZwvmdy",
        "colab_type": "code",
        "outputId": "a29c7b84-430c-45f3-b467-e887e0728205",
        "colab": {
          "base_uri": "https://localhost:8080/",
          "height": 289
        }
      },
      "source": [
        "# get column values for correlations\n",
        "telco.columns.values"
      ],
      "execution_count": 0,
      "outputs": [
        {
          "output_type": "execute_result",
          "data": {
            "text/plain": [
              "array(['Account_Length', 'Vmail_Message', 'Day_Mins', 'Eve_Mins',\n",
              "       'Night_Mins', 'Intl_Mins', 'CustServ_Calls', 'Churn', 'Intl_Plan',\n",
              "       'Vmail_Plan', 'Day_Calls', 'Day_Charge', 'Eve_Calls', 'Eve_Charge',\n",
              "       'Night_Calls', 'Night_Charge', 'Intl_Calls', 'Intl_Charge',\n",
              "       'State_AL', 'State_AR', 'State_AZ', 'State_CA', 'State_CO',\n",
              "       'State_CT', 'State_DC', 'State_DE', 'State_FL', 'State_GA',\n",
              "       'State_HI', 'State_IA', 'State_ID', 'State_IL', 'State_IN',\n",
              "       'State_KS', 'State_KY', 'State_LA', 'State_MA', 'State_MD',\n",
              "       'State_ME', 'State_MI', 'State_MN', 'State_MO', 'State_MS',\n",
              "       'State_MT', 'State_NC', 'State_ND', 'State_NE', 'State_NH',\n",
              "       'State_NJ', 'State_NM', 'State_NV', 'State_NY', 'State_OH',\n",
              "       'State_OK', 'State_OR', 'State_PA', 'State_RI', 'State_SC',\n",
              "       'State_SD', 'State_TN', 'State_TX', 'State_UT', 'State_VA',\n",
              "       'State_VT', 'State_WA', 'State_WI', 'State_WV', 'State_WY',\n",
              "       'Total_Mins', 'Total_Charge', 'Total_Calls', 'Min_Call',\n",
              "       'Cost_Call'], dtype=object)"
            ]
          },
          "metadata": {
            "tags": []
          },
          "execution_count": 17
        }
      ]
    },
    {
      "cell_type": "code",
      "metadata": {
        "id": "Kr9Hda_gvQmb",
        "colab_type": "code",
        "outputId": "f7ed318e-59bd-4ce2-88a7-a3ceea702e79",
        "colab": {
          "base_uri": "https://localhost:8080/",
          "height": 682
        }
      },
      "source": [
        "# Checking correlations and detecting multicollinearity amongst all columns other than State\n",
        "features = ['Account_Length', 'Vmail_Message', 'Day_Mins', 'Eve_Mins', 'Night_Mins', 'Intl_Mins', 'CustServ_Calls', 'Churn', 'Intl_Plan', 'Vmail_Plan', \n",
        "            'Day_Calls', 'Day_Charge', 'Eve_Calls', 'Eve_Charge', 'Night_Calls', 'Night_Charge', 'Intl_Calls', 'Intl_Charge', 'Total_Mins', 'Total_Charge', \n",
        "            'Total_Calls', 'Min_Call', 'Cost_Call']\n",
        "telco_corr = telco[features]\n",
        "corrmat = telco_corr.corr()\n",
        "plt.figure(figsize=(10,10))\n",
        "sns.heatmap(corrmat)"
      ],
      "execution_count": 0,
      "outputs": [
        {
          "output_type": "execute_result",
          "data": {
            "text/plain": [
              "<matplotlib.axes._subplots.AxesSubplot at 0x7fbdcf0d12b0>"
            ]
          },
          "metadata": {
            "tags": []
          },
          "execution_count": 18
        },
        {
          "output_type": "display_data",
          "data": {
            "image/png": "[encoded data removed]",
            "text/plain": [
              "<Figure size 720x720 with 2 Axes>"
            ]
          },
          "metadata": {
            "tags": [],
            "needs_background": "light"
          }
        }
      ]
    },
    {
      "cell_type": "code",
      "metadata": {
        "id": "Pj1dWEHqwIy1",
        "colab_type": "code",
        "colab": {}
      },
      "source": [
        "# We will drop the following columns due to their high collinearity\n",
        "columns_drop = [\"Vmail_Plan\", \"Day_Charge\", \"Eve_Charge\", \"Night_Charge\", \"Intl_Charge\", \"Total_Charge\",\"Total_Mins\"]\n",
        "telco = telco.drop(columns = columns_drop, axis = 1)"
      ],
      "execution_count": 0,
      "outputs": []
    },
    {
      "cell_type": "code",
      "metadata": {
        "id": "h_fh7eU3xoFi",
        "colab_type": "code",
        "outputId": "374033df-c190-4004-961f-368e154affbe",
        "colab": {
          "base_uri": "https://localhost:8080/",
          "height": 1000
        }
      },
      "source": [
        "telco.info()"
      ],
      "execution_count": 21,
      "outputs": [
        {
          "output_type": "stream",
          "text": [
            "<class 'pandas.core.frame.DataFrame'>\n",
            "RangeIndex: 3333 entries, 0 to 3332\n",
            "Data columns (total 66 columns):\n",
            " #   Column          Non-Null Count  Dtype  \n",
            "---  ------          --------------  -----  \n",
            " 0   Account_Length  3333 non-null   int64  \n",
            " 1   Vmail_Message   3333 non-null   int64  \n",
            " 2   Day_Mins        3333 non-null   float64\n",
            " 3   Eve_Mins        3333 non-null   float64\n",
            " 4   Night_Mins      3333 non-null   float64\n",
            " 5   Intl_Mins       3333 non-null   float64\n",
            " 6   CustServ_Calls  3333 non-null   int64  \n",
            " 7   Churn           3333 non-null   int64  \n",
            " 8   Intl_Plan       3333 non-null   int64  \n",
            " 9   Day_Calls       3333 non-null   int64  \n",
            " 10  Eve_Calls       3333 non-null   int64  \n",
            " 11  Night_Calls     3333 non-null   int64  \n",
            " 12  Intl_Calls      3333 non-null   int64  \n",
            " 13  State_AL        3333 non-null   uint8  \n",
            " 14  State_AR        3333 non-null   uint8  \n",
            " 15  State_AZ        3333 non-null   uint8  \n",
            " 16  State_CA        3333 non-null   uint8  \n",
            " 17  State_CO        3333 non-null   uint8  \n",
            " 18  State_CT        3333 non-null   uint8  \n",
            " 19  State_DC        3333 non-null   uint8  \n",
            " 20  State_DE        3333 non-null   uint8  \n",
            " 21  State_FL        3333 non-null   uint8  \n",
            " 22  State_GA        3333 non-null   uint8  \n",
            " 23  State_HI        3333 non-null   uint8  \n",
            " 24  State_IA        3333 non-null   uint8  \n",
            " 25  State_ID        3333 non-null   uint8  \n",
            " 26  State_IL        3333 non-null   uint8  \n",
            " 27  State_IN        3333 non-null   uint8  \n",
            " 28  State_KS        3333 non-null   uint8  \n",
            " 29  State_KY        3333 non-null   uint8  \n",
            " 30  State_LA        3333 non-null   uint8  \n",
            " 31  State_MA        3333 non-null   uint8  \n",
            " 32  State_MD        3333 non-null   uint8  \n",
            " 33  State_ME        3333 non-null   uint8  \n",
            " 34  State_MI        3333 non-null   uint8  \n",
            " 35  State_MN        3333 non-null   uint8  \n",
            " 36  State_MO        3333 non-null   uint8  \n",
            " 37  State_MS        3333 non-null   uint8  \n",
            " 38  State_MT        3333 non-null   uint8  \n",
            " 39  State_NC        3333 non-null   uint8  \n",
            " 40  State_ND        3333 non-null   uint8  \n",
            " 41  State_NE        3333 non-null   uint8  \n",
            " 42  State_NH        3333 non-null   uint8  \n",
            " 43  State_NJ        3333 non-null   uint8  \n",
            " 44  State_NM        3333 non-null   uint8  \n",
            " 45  State_NV        3333 non-null   uint8  \n",
            " 46  State_NY        3333 non-null   uint8  \n",
            " 47  State_OH        3333 non-null   uint8  \n",
            " 48  State_OK        3333 non-null   uint8  \n",
            " 49  State_OR        3333 non-null   uint8  \n",
            " 50  State_PA        3333 non-null   uint8  \n",
            " 51  State_RI        3333 non-null   uint8  \n",
            " 52  State_SC        3333 non-null   uint8  \n",
            " 53  State_SD        3333 non-null   uint8  \n",
            " 54  State_TN        3333 non-null   uint8  \n",
            " 55  State_TX        3333 non-null   uint8  \n",
            " 56  State_UT        3333 non-null   uint8  \n",
            " 57  State_VA        3333 non-null   uint8  \n",
            " 58  State_VT        3333 non-null   uint8  \n",
            " 59  State_WA        3333 non-null   uint8  \n",
            " 60  State_WI        3333 non-null   uint8  \n",
            " 61  State_WV        3333 non-null   uint8  \n",
            " 62  State_WY        3333 non-null   uint8  \n",
            " 63  Total_Calls     3333 non-null   int64  \n",
            " 64  Min_Call        3333 non-null   float64\n",
            " 65  Cost_Call       3333 non-null   float64\n",
            "dtypes: float64(6), int64(10), uint8(50)\n",
            "memory usage: 579.5 KB\n"
          ],
          "name": "stdout"
        }
      ]
    },
    {
      "cell_type": "markdown",
      "metadata": {
        "id": "MLQbqDirwu6q",
        "colab_type": "text"
      },
      "source": [
        "## Churn Predictions"
      ]
    },
    {
      "cell_type": "code",
      "metadata": {
        "id": "FYEU58R_JY49",
        "colab_type": "code",
        "colab": {}
      },
      "source": [
        "# Create feature variable\n",
        "X = telco.drop('Churn', axis=1)\n",
        "# Create target variable\n",
        "y = telco['Churn']\n",
        "# Create training and testing sets\n",
        "X_train, X_test, y_train, y_test = train_test_split(X, y, test_size = 0.2, random_state = 42)"
      ],
      "execution_count": 0,
      "outputs": []
    },
    {
      "cell_type": "code",
      "metadata": {
        "id": "I4twazCkKTo_",
        "colab_type": "code",
        "outputId": "3049b9af-091a-4517-d715-d7ef9a704a44",
        "colab": {
          "base_uri": "https://localhost:8080/",
          "height": 85
        }
      },
      "source": [
        "print(X_train.shape)\n",
        "print(y_train.shape)\n",
        "print(X_test.shape)\n",
        "print(y_test.shape)"
      ],
      "execution_count": 0,
      "outputs": [
        {
          "output_type": "stream",
          "text": [
            "(2666, 65)\n",
            "(2666,)\n",
            "(667, 65)\n",
            "(667,)\n"
          ],
          "name": "stdout"
        }
      ]
    },
    {
      "cell_type": "markdown",
      "metadata": {
        "id": "8Vc6nyNVJVOI",
        "colab_type": "text"
      },
      "source": [
        "### Logistic Regression Model"
      ]
    },
    {
      "cell_type": "markdown",
      "metadata": {
        "id": "rc973PObJ7Cz",
        "colab_type": "text"
      },
      "source": [
        "Model Training & Predictions"
      ]
    },
    {
      "cell_type": "code",
      "metadata": {
        "id": "BT5Ac3uiJggy",
        "colab_type": "code",
        "colab": {}
      },
      "source": [
        "# Instantiate the classifier\n",
        "lr = LogisticRegression(max_iter = 10000)\n",
        "# Fit the classifier\n",
        "lr.fit(X_train, y_train)\n",
        "# Predict the labels of the test set\n",
        "y_pred = lr.predict(X_test)\n",
        "# Predict the probabilities of the test set\n",
        "y_pred_prob = lr.predict_proba(X_test)"
      ],
      "execution_count": 0,
      "outputs": []
    },
    {
      "cell_type": "markdown",
      "metadata": {
        "id": "DTDOEqnbLdnK",
        "colab_type": "text"
      },
      "source": [
        "Model Validation"
      ]
    },
    {
      "cell_type": "code",
      "metadata": {
        "id": "OXgWSEYuLg83",
        "colab_type": "code",
        "outputId": "4c2d5dda-937c-4c4d-ce03-7f2739f87a4d",
        "colab": {
          "base_uri": "https://localhost:8080/",
          "height": 364
        }
      },
      "source": [
        "# Print the confusion matrix\n",
        "print(confusion_matrix(y_test, y_pred))\n",
        "\n",
        "# Calculate the roc metrics\n",
        "fpr, tpr, thresholds = roc_curve(y_test, y_pred_prob[: ][: , 1])\n",
        "# Plot the ROC curve\n",
        "plt.plot(fpr, tpr)\n",
        "# Add labels and diagonal line\n",
        "plt.xlabel(\"False Positive Rate\")\n",
        "plt.ylabel(\"True Positive Rate\")\n",
        "plt.plot([0, 1], [0, 1], \"k--\")\n",
        "plt.show()\n",
        "\n",
        "# Calculate AUROC\n",
        "AUROC_LR = roc_auc_score(y_test, y_pred_prob[: ][: , 1])\n",
        "print(\"Area under the ROC Curve for the Logistic Regression Model is:\", \"{:.2f}\".format(AUROC_LR))\n",
        "\n",
        "# Calculate Gini\n",
        "Gini_LR = AUROC_LR * 2 - 1\n",
        "print(\"Gini for the Logistic Regression Model is:\", \"{:.2f}\".format(Gini_LR))\n",
        "\n",
        "# Calculate F1 score\n",
        "F1_LR = f1_score(y_test, y_pred)\n",
        "print(\"F1 Score for the Logistic Regression Model is:\", \"{:.2f}\".format(F1_LR))"
      ],
      "execution_count": 0,
      "outputs": [
        {
          "output_type": "stream",
          "text": [
            "[[552  14]\n",
            " [ 84  17]]\n"
          ],
          "name": "stdout"
        },
        {
          "output_type": "display_data",
          "data": {
            "image/png": "[encoded data removed]",
            "text/plain": [
              "<Figure size 432x288 with 1 Axes>"
            ]
          },
          "metadata": {
            "tags": [],
            "needs_background": "light"
          }
        },
        {
          "output_type": "stream",
          "text": [
            "Area under the ROC Curve for the Logistic Regression Model is: 0.82\n",
            "Gini for the Logistic Regression Model is: 0.64\n",
            "F1 Score for the Logistic Regression Model is: 0.26\n"
          ],
          "name": "stdout"
        }
      ]
    },
    {
      "cell_type": "markdown",
      "metadata": {
        "id": "qSM5G5QEO6rI",
        "colab_type": "text"
      },
      "source": [
        "### Decision Tree"
      ]
    },
    {
      "cell_type": "markdown",
      "metadata": {
        "id": "hb__-uBtO-wA",
        "colab_type": "text"
      },
      "source": [
        "Model Training & Predictions"
      ]
    },
    {
      "cell_type": "code",
      "metadata": {
        "id": "jNFFyCjFPA7P",
        "colab_type": "code",
        "colab": {}
      },
      "source": [
        "# Instantiate the classifier\n",
        "dtree = DecisionTreeClassifier()\n",
        "# Fit the classifier\n",
        "dtree.fit(X_train, y_train)\n",
        "# Predict the labels of the test set\n",
        "y_pred_dtree = dtree.predict(X_test)\n",
        "# Predict the probabilities of the test set\n",
        "y_pred_prob_dtree = dtree.predict_proba(X_test)"
      ],
      "execution_count": 0,
      "outputs": []
    },
    {
      "cell_type": "markdown",
      "metadata": {
        "id": "0uc-75aLQlF6",
        "colab_type": "text"
      },
      "source": [
        "Model Validation"
      ]
    },
    {
      "cell_type": "code",
      "metadata": {
        "id": "6sJNqz3lPtLy",
        "colab_type": "code",
        "outputId": "d047151e-2c7f-42ac-cb60-a78f5002e7cb",
        "colab": {
          "base_uri": "https://localhost:8080/",
          "height": 364
        }
      },
      "source": [
        "# Print the confusion matrix\n",
        "print(confusion_matrix(y_test, y_pred_dtree))\n",
        "\n",
        "# Calculate the roc metrics\n",
        "fpr, tpr, thresholds = roc_curve(y_test, y_pred_prob_dtree[: ][: , 1])\n",
        "# Plot the ROC curve\n",
        "plt.plot(fpr, tpr)\n",
        "# Add labels and diagonal line\n",
        "plt.xlabel(\"False Positive Rate\")\n",
        "plt.ylabel(\"True Positive Rate\")\n",
        "plt.plot([0, 1], [0, 1], \"k--\")\n",
        "plt.show()\n",
        "\n",
        "# Calculate AUROC\n",
        "AUROC_DT = roc_auc_score(y_test, y_pred_prob_dtree[: ][: , 1])\n",
        "print(\"Area under the ROC Curve the Decision Tree Model is:\", \"{:.2f}\".format(AUROC_DT))\n",
        "\n",
        "# Calculate Gini\n",
        "Gini_DT = AUROC_DT * 2 - 1\n",
        "print(\"Gini for the Decision Tree Model is:\", \"{:.2f}\".format(Gini_DT))\n",
        "\n",
        "# Calculate F1 score\n",
        "F1_DT = f1_score(y_test, y_pred_dtree)\n",
        "print(\"F1 Score for the Decision Tree Model is:\", \"{:.2f}\".format(F1_DT))"
      ],
      "execution_count": 0,
      "outputs": [
        {
          "output_type": "stream",
          "text": [
            "[[536  30]\n",
            " [ 24  77]]\n"
          ],
          "name": "stdout"
        },
        {
          "output_type": "display_data",
          "data": {
            "image/png": "[encoded data removed]",
            "text/plain": [
              "<Figure size 432x288 with 1 Axes>"
            ]
          },
          "metadata": {
            "tags": [],
            "needs_background": "light"
          }
        },
        {
          "output_type": "stream",
          "text": [
            "Area under the ROC Curve the Decision Tree Model is: 0.85\n",
            "Gini for the Decision Tree Model is: 0.71\n",
            "F1 Score for the Decision Tree Model is: 0.74\n"
          ],
          "name": "stdout"
        }
      ]
    },
    {
      "cell_type": "markdown",
      "metadata": {
        "id": "E6-2-gD9QoZ-",
        "colab_type": "text"
      },
      "source": [
        "### Random Forest"
      ]
    },
    {
      "cell_type": "markdown",
      "metadata": {
        "id": "CJka-xUHQrJH",
        "colab_type": "text"
      },
      "source": [
        "Model Training and Predictions"
      ]
    },
    {
      "cell_type": "code",
      "metadata": {
        "id": "apqqKuQYQxaC",
        "colab_type": "code",
        "colab": {}
      },
      "source": [
        "# Instantiate the classifier\n",
        "rf = RandomForestClassifier()\n",
        "# Fit to the training data\n",
        "rf.fit(X_train, y_train)\n",
        "# Predict the labels of the test set\n",
        "y_pred_rf = rf.predict(X_test)\n",
        "# Predict the probabilities of the test set\n",
        "y_pred_prob_rf = rf.predict_proba(X_test)"
      ],
      "execution_count": 0,
      "outputs": []
    },
    {
      "cell_type": "markdown",
      "metadata": {
        "id": "JCmUW9hHRBk-",
        "colab_type": "text"
      },
      "source": [
        "Model Validation"
      ]
    },
    {
      "cell_type": "code",
      "metadata": {
        "id": "TwQha90ZRBCB",
        "colab_type": "code",
        "outputId": "3cfaa4d1-2005-4495-f1e5-49af7f80f7df",
        "colab": {
          "base_uri": "https://localhost:8080/",
          "height": 364
        }
      },
      "source": [
        "# Print the confusion matrix\n",
        "print(confusion_matrix(y_test, y_pred_rf))\n",
        "\n",
        "# Calculate the roc metrics\n",
        "fpr, tpr, thresholds = roc_curve(y_test, y_pred_prob_rf[: ][: , 1])\n",
        "# Plot the ROC curve\n",
        "plt.plot(fpr, tpr)\n",
        "# Add labels and diagonal line\n",
        "plt.xlabel(\"False Positive Rate\")\n",
        "plt.ylabel(\"True Positive Rate\")\n",
        "plt.plot([0, 1], [0, 1], \"k--\")\n",
        "plt.show()\n",
        "\n",
        "# Calculate AUROC\n",
        "AUROC_RF = roc_auc_score(y_test, y_pred_prob_rf[: ][: , 1])\n",
        "print(\"Area under the ROC Curve the Random Forest Model is:\", \"{:.2f}\".format(AUROC_RF))\n",
        "\n",
        "# Calculate Gini\n",
        "Gini_RF = AUROC_RF * 2 - 1\n",
        "print(\"Gini for the Random Forest Model is:\", \"{:.2f}\".format(Gini_RF))\n",
        "\n",
        "# Calculate F1 score\n",
        "F1_RF = f1_score(y_test, y_pred_rf)\n",
        "print(\"F1 Score for the Random Forest Model is:\", \"{:.2f}\".format(F1_RF))"
      ],
      "execution_count": 0,
      "outputs": [
        {
          "output_type": "stream",
          "text": [
            "[[564   2]\n",
            " [ 45  56]]\n"
          ],
          "name": "stdout"
        },
        {
          "output_type": "display_data",
          "data": {
            "image/png": "[encoded data removed]",
            "text/plain": [
              "<Figure size 432x288 with 1 Axes>"
            ]
          },
          "metadata": {
            "tags": [],
            "needs_background": "light"
          }
        },
        {
          "output_type": "stream",
          "text": [
            "Area under the ROC Curve the Random Forest Model is: 0.94\n",
            "Gini for the Random Forest Model is: 0.87\n",
            "F1 Score for the Random Forest Model is: 0.70\n"
          ],
          "name": "stdout"
        }
      ]
    },
    {
      "cell_type": "markdown",
      "metadata": {
        "id": "Si0tQmULRcUH",
        "colab_type": "text"
      },
      "source": [
        "Hyperparameterization for Random Forest"
      ]
    },
    {
      "cell_type": "code",
      "metadata": {
        "id": "A5CbBWYgRfRJ",
        "colab_type": "code",
        "outputId": "e6dda5b1-e9bf-4808-ebba-bc30f2a8a96e",
        "colab": {
          "base_uri": "https://localhost:8080/",
          "height": 34
        }
      },
      "source": [
        "# Create the hyperparameter grid\n",
        "param_grid = {\"n_estimators\": [180, 182, 185], #182 was the ideal after repeated trial and errors\n",
        "              \"min_samples_split\": [2, 4, 6, 8],\n",
        "              \"min_samples_leaf\": [1, 2, 3]}\n",
        "# Call GridSearchCV\n",
        "grid_search = GridSearchCV(rf, param_grid, scoring = \"roc_auc\") # using the default 5 fold validation\n",
        "# Fit the model\n",
        "grid_search.fit(X_train, y_train)\n",
        "# Print the optimal parameters\n",
        "print(grid_search.best_params_)"
      ],
      "execution_count": 0,
      "outputs": [
        {
          "output_type": "stream",
          "text": [
            "{'min_samples_leaf': 1, 'min_samples_split': 2, 'n_estimators': 180}\n"
          ],
          "name": "stdout"
        }
      ]
    },
    {
      "cell_type": "code",
      "metadata": {
        "id": "QnJ_vmWvkrtl",
        "colab_type": "code",
        "colab": {}
      },
      "source": [
        "# Predict the labels of the test set\n",
        "y_pred_grid = grid_search.predict(X_test)\n",
        "# Predict the probabilities of the test set\n",
        "y_pred_prob_grid = grid_search.predict_proba(X_test)"
      ],
      "execution_count": 0,
      "outputs": []
    },
    {
      "cell_type": "code",
      "metadata": {
        "id": "zlOS74RZkgyD",
        "colab_type": "code",
        "outputId": "f3603b89-58c8-406a-aca5-b6c361f296eb",
        "colab": {
          "base_uri": "https://localhost:8080/",
          "height": 364
        }
      },
      "source": [
        "# Print the confusion matrix\n",
        "print(confusion_matrix(y_test, y_pred_grid))\n",
        "\n",
        "# Calculate the roc metrics\n",
        "fpr, tpr, thresholds = roc_curve(y_test, y_pred_prob_grid[: ][: , 1])\n",
        "# Plot the ROC curve\n",
        "plt.plot(fpr, tpr)\n",
        "# Add labels and diagonal line\n",
        "plt.xlabel(\"False Positive Rate\")\n",
        "plt.ylabel(\"True Positive Rate\")\n",
        "plt.plot([0, 1], [0, 1], \"k--\")\n",
        "plt.show()\n",
        "\n",
        "# Calculate AUROC\n",
        "AUROC_GRID = roc_auc_score(y_test, y_pred_prob_grid[: ][: , 1])\n",
        "print(\"Area under the ROC Curve the Random Forest Model is:\", \"{:.2f}\".format(AUROC_GRID))\n",
        "\n",
        "# Calculate Gini\n",
        "Gini_GRID = AUROC_GRID * 2 - 1\n",
        "print(\"Gini for the Random Forest Model is:\", \"{:.2f}\".format(Gini_GRID))\n",
        "\n",
        "# Calculate F1 score\n",
        "F1_GRID = f1_score(y_test, y_pred_grid)\n",
        "print(\"F1 Score for the Random Forest Model is:\", \"{:.2f}\".format(F1_GRID))"
      ],
      "execution_count": 0,
      "outputs": [
        {
          "output_type": "stream",
          "text": [
            "[[564   2]\n",
            " [ 38  63]]\n"
          ],
          "name": "stdout"
        },
        {
          "output_type": "display_data",
          "data": {
            "image/png": "[encoded data removed]",
            "text/plain": [
              "<Figure size 432x288 with 1 Axes>"
            ]
          },
          "metadata": {
            "tags": [],
            "needs_background": "light"
          }
        },
        {
          "output_type": "stream",
          "text": [
            "Area under the ROC Curve the Random Forest Model is: 0.94\n",
            "Gini for the Random Forest Model is: 0.87\n",
            "F1 Score for the Random Forest Model is: 0.76\n"
          ],
          "name": "stdout"
        }
      ]
    },
    {
      "cell_type": "code",
      "metadata": {
        "id": "5G0cVmlkB79I",
        "colab_type": "code",
        "outputId": "9ad99d82-3eeb-4a78-c1d8-17a740838d86",
        "colab": {
          "base_uri": "https://localhost:8080/",
          "height": 700
        }
      },
      "source": [
        "# Calculate feature importances\n",
        "importances = grid_search.best_estimator_.feature_importances_\n",
        "# Sort importances\n",
        "sorted_index = np.argsort(importances)\n",
        "# Create labels\n",
        "labels = X.columns[sorted_index]\n",
        "# Create plot\n",
        "plt.figure(figsize=(12,12))\n",
        "plt.barh(range(X.shape[1]), importances[sorted_index], tick_label=labels)\n",
        "plt.show()"
      ],
      "execution_count": 0,
      "outputs": [
        {
          "output_type": "display_data",
          "data": {
            "image/png": "[encoded data removed]",
            "text/plain": [
              "<Figure size 864x864 with 1 Axes>"
            ]
          },
          "metadata": {
            "tags": [],
            "needs_background": "light"
          }
        }
      ]
    },
    {
      "cell_type": "markdown",
      "metadata": {
        "id": "aQXJpfO9LM5R",
        "colab_type": "text"
      },
      "source": [
        "### Gradient Boosing Trees"
      ]
    },
    {
      "cell_type": "code",
      "metadata": {
        "id": "OG7wO4kULQ7t",
        "colab_type": "code",
        "colab": {}
      },
      "source": [
        "def modelfit(alg, xtrain, xtest, ytrain, ytest, useTrainCV=True, cv_folds=5, early_stopping_rounds=50):\n",
        "    \n",
        "    if useTrainCV:\n",
        "        xgb_param = alg.get_xgb_params()\n",
        "        xgtrain = xgb.DMatrix(xtrain.values, label=ytrain.values)\n",
        "        cvresult = xgb.cv(xgb_param, xgtrain, num_boost_round=alg.get_params()['n_estimators'], nfold=cv_folds,\n",
        "            metrics={\"auc\"}, early_stopping_rounds=early_stopping_rounds)\n",
        "        alg.set_params(n_estimators=cvresult.shape[0])\n",
        "    \n",
        "    #Fit the algorithm on the data\n",
        "    alg.fit(xtrain, ytrain, eval_metric='auc', verbose = True)\n",
        "        \n",
        "    #Predict training set:\n",
        "    train_predictions = alg.predict(xtrain)\n",
        "    train_predprob = alg.predict_proba(xtrain)[:,1]\n",
        "    test_predprob = alg.predict_proba(xtest)[:,1]\n",
        "    test_predictions = alg.predict(xtest)\n",
        "        \n",
        "    #Print model report:\n",
        "    print (\"\\nModel Report\")\n",
        "    print (\"AUC Score (Train): %f\" % roc_auc_score(ytrain, train_predprob))\n",
        "    global AUROC_XGB, Gini_XGB, F1_XGB \n",
        "    AUROC_XGB = roc_auc_score(ytest, test_predprob)\n",
        "    print (\"AUC Score (Test): {:.5f}\".format(AUROC_XGB))\n",
        "    Gini_XGB = AUROC_XGB * 2 - 1\n",
        "    print (\"Gini (Test): {:.5f}\".format(Gini_XGB))\n",
        "    F1_XGB = f1_score(ytest, test_predictions)\n",
        "    print(\"F1 Score:\", \"{:.5f}\".format(F1_XGB))\n",
        "    print(confusion_matrix(ytest, test_predictions))\n",
        "                    \n",
        "    feat_imp = pd.Series(alg.get_booster().get_fscore()).sort_values(ascending=False)\n",
        "    feat_imp.plot(kind='bar', title='Feature Importances')\n",
        "    plt.ylabel('Feature Importance Score')"
      ],
      "execution_count": 0,
      "outputs": []
    },
    {
      "cell_type": "code",
      "metadata": {
        "id": "QfdTq4oSMZx_",
        "colab_type": "code",
        "outputId": "7d98f26b-f3ad-4658-b5ac-1e525615ee1f",
        "colab": {
          "base_uri": "https://localhost:8080/",
          "height": 487
        }
      },
      "source": [
        "xgb1 = XGBClassifier(\n",
        " learning_rate = 0.1,\n",
        " n_estimators = 1000,\n",
        " max_depth = 5,\n",
        " min_child_weight = 1,\n",
        " gamma = 0,\n",
        " subsample = 0.8,\n",
        " colsample_bytree = 0.8,\n",
        " objective = 'binary:logistic',\n",
        " nthread = 4,\n",
        " scale_pos_weight = 1,\n",
        " seed = 27)\n",
        "\n",
        "modelfit(xgb1, X_train, X_test, y_train, y_test)"
      ],
      "execution_count": 0,
      "outputs": [
        {
          "output_type": "stream",
          "text": [
            "\n",
            "Model Report\n",
            "AUC Score (Train): 0.943949\n",
            "AUC Score (Test): 0.92610\n",
            "Gini (Test): 0.85220\n",
            "F1 Score: 0.80460\n",
            "[[563   3]\n",
            " [ 31  70]]\n"
          ],
          "name": "stdout"
        },
        {
          "output_type": "display_data",
          "data": {
            "image/png": "[encoded data removed]",
            "text/plain": [
              "<Figure size 432x288 with 1 Axes>"
            ]
          },
          "metadata": {
            "tags": [],
            "needs_background": "light"
          }
        }
      ]
    },
    {
      "cell_type": "markdown",
      "metadata": {
        "id": "vTltrZ6skr5E",
        "colab_type": "text"
      },
      "source": [
        "Tune max_depth and min_child_weight"
      ]
    },
    {
      "cell_type": "code",
      "metadata": {
        "id": "nvvWljxukvZg",
        "colab_type": "code",
        "outputId": "c7a4750d-3810-4e22-ad95-fc274de8f05d",
        "colab": {
          "base_uri": "https://localhost:8080/",
          "height": 34
        }
      },
      "source": [
        "param_test1 = {\n",
        "    'max_depth': range(3,10,2),\n",
        "    'min_child_weight': range(1,6,2)\n",
        "    }\n",
        "\n",
        "gsearch1 = GridSearchCV(estimator = XGBClassifier(learning_rate = 0.1, n_estimators = 1000, max_depth = 5, min_child_weight = 1, gamma = 0, subsample = 0.8, \n",
        "                                                  colsample_bytree = 0.8, objective = 'binary:logistic', nthread = 4, scale_pos_weight = 1, seed = 27), \n",
        "                        param_grid = param_test1, scoring = 'roc_auc', n_jobs = 4, cv = 5)\n",
        "\n",
        "gsearch1.fit(X_train, y_train)\n",
        "gsearch1.best_params_, gsearch1.best_score_"
      ],
      "execution_count": 0,
      "outputs": [
        {
          "output_type": "execute_result",
          "data": {
            "text/plain": [
              "({'max_depth': 3, 'min_child_weight': 1}, 0.9131241670916899)"
            ]
          },
          "metadata": {
            "tags": []
          },
          "execution_count": 38
        }
      ]
    },
    {
      "cell_type": "markdown",
      "metadata": {
        "id": "hh_T6lnHmFtk",
        "colab_type": "text"
      },
      "source": [
        "Let's go one step deeper in the GridSearchCV"
      ]
    },
    {
      "cell_type": "code",
      "metadata": {
        "id": "9TNbm18zlP7M",
        "colab_type": "code",
        "outputId": "5fbb5d17-e4d7-41e0-8a69-11602016f663",
        "colab": {
          "base_uri": "https://localhost:8080/",
          "height": 34
        }
      },
      "source": [
        "param_test2 = {\n",
        "    'max_depth': [1, 2, 3, 4],\n",
        "    'min_child_weight': [1, 2]\n",
        "    }\n",
        "\n",
        "gsearch2 = GridSearchCV(estimator = XGBClassifier(learning_rate = 0.1, n_estimators = 1000, max_depth = 5, min_child_weight = 1, gamma = 0, subsample = 0.8, \n",
        "                                                  colsample_bytree = 0.8, objective = 'binary:logistic', nthread = 4, scale_pos_weight = 1, seed = 27), \n",
        "                        param_grid = param_test2, scoring = 'roc_auc', n_jobs = 4, cv = 5)\n",
        "\n",
        "gsearch2.fit(X_train, y_train)\n",
        "gsearch2.best_params_, gsearch2.best_score_"
      ],
      "execution_count": 0,
      "outputs": [
        {
          "output_type": "execute_result",
          "data": {
            "text/plain": [
              "({'max_depth': 3, 'min_child_weight': 1}, 0.9131241670916899)"
            ]
          },
          "metadata": {
            "tags": []
          },
          "execution_count": 39
        }
      ]
    },
    {
      "cell_type": "markdown",
      "metadata": {
        "id": "VAKO7QQnnJRA",
        "colab_type": "text"
      },
      "source": [
        "The optimum values are:\n",
        "* max_depth: 3\n",
        "* min_child_weight: 1"
      ]
    },
    {
      "cell_type": "code",
      "metadata": {
        "id": "DODjR_dbm4tV",
        "colab_type": "code",
        "outputId": "0db24535-e1a1-41e7-bc8a-beba63bf354c",
        "colab": {
          "base_uri": "https://localhost:8080/",
          "height": 487
        }
      },
      "source": [
        "xgb2 = XGBClassifier(\n",
        " learning_rate = 0.1,\n",
        " n_estimators = 1000,\n",
        " max_depth = 3,\n",
        " min_child_weight = 1,\n",
        " gamma = 0,\n",
        " subsample = 0.8,\n",
        " colsample_bytree = 0.8,\n",
        " objective = 'binary:logistic',\n",
        " nthread = 4,\n",
        " scale_pos_weight = 1,\n",
        " seed = 27)\n",
        "\n",
        "modelfit(xgb2, X_train, X_test, y_train, y_test)"
      ],
      "execution_count": 0,
      "outputs": [
        {
          "output_type": "stream",
          "text": [
            "\n",
            "Model Report\n",
            "AUC Score (Train): 0.950027\n",
            "AUC Score (Test): 0.92877\n",
            "Gini (Test): 0.85754\n",
            "F1 Score: 0.77907\n",
            "[[562   4]\n",
            " [ 34  67]]\n"
          ],
          "name": "stdout"
        },
        {
          "output_type": "display_data",
          "data": {
            "image/png": "[encoded data removed]",
            "text/plain": [
              "<Figure size 432x288 with 1 Axes>"
            ]
          },
          "metadata": {
            "tags": [],
            "needs_background": "light"
          }
        }
      ]
    },
    {
      "cell_type": "markdown",
      "metadata": {
        "id": "WZZthucxoBqu",
        "colab_type": "text"
      },
      "source": [
        "Tune Gamma"
      ]
    },
    {
      "cell_type": "code",
      "metadata": {
        "id": "_B_2oZhHrOa9",
        "colab_type": "code",
        "outputId": "0937ca4f-b93b-48c8-87c2-8c8cb862e7dd",
        "colab": {
          "base_uri": "https://localhost:8080/",
          "height": 34
        }
      },
      "source": [
        "param_test3 = {'gamma': [i/10.0 for i in range(0,5)]}\n",
        "\n",
        "gsearch3 = GridSearchCV(estimator = XGBClassifier(learning_rate = 0.1, n_estimators = 1000, max_depth = 3, min_child_weight = 1, gamma = 0, subsample = 0.8, \n",
        "                                                  colsample_bytree = 0.8, objective = 'binary:logistic', nthread = 4, scale_pos_weight = 1,seed = 27), \n",
        "                        param_grid = param_test3, scoring = 'roc_auc', n_jobs = 4, cv = 5)\n",
        "\n",
        "gsearch3.fit(X_train, y_train)\n",
        "gsearch3.best_params_, gsearch3.best_score_"
      ],
      "execution_count": 0,
      "outputs": [
        {
          "output_type": "execute_result",
          "data": {
            "text/plain": [
              "({'gamma': 0.3}, 0.9135794529091777)"
            ]
          },
          "metadata": {
            "tags": []
          },
          "execution_count": 41
        }
      ]
    },
    {
      "cell_type": "markdown",
      "metadata": {
        "id": "qUT2JYnCsWvF",
        "colab_type": "text"
      },
      "source": [
        "The optimum values so far are:\n",
        "* max_depth: 3\n",
        "* min_child_weight: 1\n",
        "* gamma: 0.3"
      ]
    },
    {
      "cell_type": "code",
      "metadata": {
        "id": "U42_gVQlrube",
        "colab_type": "code",
        "outputId": "488f1da1-8098-4c6f-bf05-0692627e2fef",
        "colab": {
          "base_uri": "https://localhost:8080/",
          "height": 487
        }
      },
      "source": [
        "xgb3 = XGBClassifier(\n",
        " learning_rate = 0.1,\n",
        " n_estimators = 1000,\n",
        " max_depth = 3,\n",
        " min_child_weight = 1,\n",
        " gamma = 0.3,\n",
        " subsample = 0.8,\n",
        " colsample_bytree = 0.8,\n",
        " objective = 'binary:logistic',\n",
        " nthread = 4,\n",
        " scale_pos_weight = 1,\n",
        " seed = 27)\n",
        "\n",
        "modelfit(xgb3, X_train, X_test, y_train, y_test)"
      ],
      "execution_count": 0,
      "outputs": [
        {
          "output_type": "stream",
          "text": [
            "\n",
            "Model Report\n",
            "AUC Score (Train): 0.974727\n",
            "AUC Score (Test): 0.93061\n",
            "Gini (Test): 0.86121\n",
            "F1 Score: 0.82682\n",
            "[[562   4]\n",
            " [ 27  74]]\n"
          ],
          "name": "stdout"
        },
        {
          "output_type": "display_data",
          "data": {
            "image/png": "[encoded data removed]",
            "text/plain": [
              "<Figure size 432x288 with 1 Axes>"
            ]
          },
          "metadata": {
            "tags": [],
            "needs_background": "light"
          }
        }
      ]
    },
    {
      "cell_type": "markdown",
      "metadata": {
        "id": "zPBXPxwysaRU",
        "colab_type": "text"
      },
      "source": [
        "Tune subsample and colsample_bytree"
      ]
    },
    {
      "cell_type": "code",
      "metadata": {
        "id": "aVwf3AaYsMQT",
        "colab_type": "code",
        "outputId": "23bad389-9103-467a-e768-026665ea44f3",
        "colab": {
          "base_uri": "https://localhost:8080/",
          "height": 34
        }
      },
      "source": [
        "param_test4 = {\n",
        "    'subsample':[i/10.0 for i in range(6,10)],\n",
        "    'colsample_bytree':[i/10.0 for i in range(6,10)]\n",
        "    }\n",
        "\n",
        "gsearch4 = GridSearchCV(estimator = XGBClassifier(learning_rate = 0.1, n_estimators = 1000, max_depth = 3, min_child_weight = 1, gamma = 0.3, \n",
        "                                                  subsample = 0.8, colsample_bytree = 0.8, objective = 'binary:logistic', nthread = 4, \n",
        "                                                  scale_pos_weight = 1,seed = 27), \n",
        "                        param_grid = param_test4, scoring = 'roc_auc', n_jobs = 4, cv = 5)\n",
        "\n",
        "gsearch4.fit(X_train, y_train)\n",
        "gsearch4.best_params_, gsearch4.best_score_"
      ],
      "execution_count": 0,
      "outputs": [
        {
          "output_type": "execute_result",
          "data": {
            "text/plain": [
              "({'colsample_bytree': 0.7, 'subsample': 0.9}, 0.915568312067218)"
            ]
          },
          "metadata": {
            "tags": []
          },
          "execution_count": 43
        }
      ]
    },
    {
      "cell_type": "markdown",
      "metadata": {
        "id": "p_u81umrt6rW",
        "colab_type": "text"
      },
      "source": [
        "Now we should try values in 0.05 interval around these best parameters."
      ]
    },
    {
      "cell_type": "code",
      "metadata": {
        "id": "P-wlMFvXt4f2",
        "colab_type": "code",
        "outputId": "2b96959b-7b94-4bf5-a691-5d82dff5bb68",
        "colab": {
          "base_uri": "https://localhost:8080/",
          "height": 34
        }
      },
      "source": [
        "param_test4b = {\n",
        "    'subsample':[i/100.0 for i in range(85, 100, 5)],\n",
        "    'colsample_bytree':[i/100.0 for i in range(65, 80, 5)]\n",
        "    }\n",
        "\n",
        "gsearch4b = GridSearchCV(estimator = XGBClassifier(learning_rate = 0.1, n_estimators = 1000, max_depth = 3, min_child_weight = 1, gamma = 0.3, \n",
        "                                                  subsample = 0.8, colsample_bytree = 0.8, objective = 'binary:logistic', nthread = 4, \n",
        "                                                  scale_pos_weight = 1,seed = 27), \n",
        "                        param_grid = param_test4b, scoring = 'roc_auc', n_jobs = 4, cv = 5)\n",
        "\n",
        "gsearch4b.fit(X_train, y_train)\n",
        "gsearch4b.best_params_, gsearch4b.best_score_"
      ],
      "execution_count": 0,
      "outputs": [
        {
          "output_type": "execute_result",
          "data": {
            "text/plain": [
              "({'colsample_bytree': 0.7, 'subsample': 0.9}, 0.915568312067218)"
            ]
          },
          "metadata": {
            "tags": []
          },
          "execution_count": 44
        }
      ]
    },
    {
      "cell_type": "markdown",
      "metadata": {
        "id": "IyB3NrRVtPpD",
        "colab_type": "text"
      },
      "source": [
        "The optimum values so far are:\n",
        "* max_depth: 3\n",
        "* min_child_weight: 1\n",
        "* gamma: 0.3\n",
        "* subsample: 0.9\n",
        "* colsample_bytree: 0.7"
      ]
    },
    {
      "cell_type": "code",
      "metadata": {
        "id": "gj9Ym7mAsykD",
        "colab_type": "code",
        "outputId": "509eeaa0-c0ad-47db-a21e-aea82ded5ce4",
        "colab": {
          "base_uri": "https://localhost:8080/",
          "height": 190
        }
      },
      "source": [
        "xgb4 = XGBClassifier(\n",
        " learning_rate = 0.1,\n",
        " n_estimators = 1000,\n",
        " max_depth = 3,\n",
        " min_child_weight = 1,\n",
        " gamma = 0.3,\n",
        " subsample = 0.9,\n",
        " colsample_bytree = 0.7,\n",
        " objective = 'binary:logistic',\n",
        " nthread = 4,\n",
        " scale_pos_weight = 1,\n",
        " seed = 27)\n",
        "\n",
        "modelfit(xgb4, X_train, X_test, y_train, y_test)"
      ],
      "execution_count": 0,
      "outputs": [
        {
          "output_type": "stream",
          "text": [
            "\n",
            "Model Report\n",
            "AUC Score (Train): 0.990471\n",
            "AUC Score (Test): 0.93122\n",
            "Gini (Test): 0.86244\n",
            "F1 Score: 0.82682\n",
            "[[562   4]\n",
            " [ 27  74]]\n"
          ],
          "name": "stdout"
        },
        {
          "output_type": "display_data",
          "data": {
            "image/png": "[encoded data removed]",
            "text/plain": [
              "<Figure size 432x288 with 1 Axes>"
            ]
          },
          "metadata": {
            "tags": [],
            "needs_background": "light"
          }
        }
      ]
    },
    {
      "cell_type": "markdown",
      "metadata": {
        "id": "jkw8fMaBvVMg",
        "colab_type": "text"
      },
      "source": [
        "Reducing Learning Rate and add more trees"
      ]
    },
    {
      "cell_type": "code",
      "metadata": {
        "id": "5xJ3ojYlvW5p",
        "colab_type": "code",
        "outputId": "fd37f498-115b-429f-9e60-db8b187bf292",
        "colab": {
          "base_uri": "https://localhost:8080/",
          "height": 487
        }
      },
      "source": [
        "xgb5 = XGBClassifier(\n",
        " learning_rate = 0.05,\n",
        " n_estimators = 1000,\n",
        " max_depth = 3,\n",
        " min_child_weight = 1,\n",
        " gamma = 0.3,\n",
        " subsample = 0.9,\n",
        " colsample_bytree = 0.7,\n",
        " objective = 'binary:logistic',\n",
        " nthread = 4,\n",
        " scale_pos_weight = 1,\n",
        " seed = 27)\n",
        "\n",
        "modelfit(xgb5, X_train, X_test, y_train, y_test)"
      ],
      "execution_count": 24,
      "outputs": [
        {
          "output_type": "stream",
          "text": [
            "\n",
            "Model Report\n",
            "AUC Score (Train): 0.965794\n",
            "AUC Score (Test): 0.93353\n",
            "Gini (Test): 0.86705\n",
            "F1 Score: 0.80226\n",
            "[[561   5]\n",
            " [ 30  71]]\n"
          ],
          "name": "stdout"
        },
        {
          "output_type": "display_data",
          "data": {
            "image/png": "[encoded data removed]",
            "text/plain": [
              "<Figure size 432x288 with 1 Axes>"
            ]
          },
          "metadata": {
            "tags": [],
            "needs_background": "light"
          }
        }
      ]
    },
    {
      "cell_type": "markdown",
      "metadata": {
        "id": "d_csqvTzwJ8J",
        "colab_type": "text"
      },
      "source": [
        "Slight increase in AUC and Gini scores - so these will be our final parameters for XGBoost"
      ]
    },
    {
      "cell_type": "markdown",
      "metadata": {
        "id": "nLTWDHi3wl0A",
        "colab_type": "text"
      },
      "source": [
        "## Summary of Validation Results"
      ]
    },
    {
      "cell_type": "code",
      "metadata": {
        "id": "ETm7txnRwOn3",
        "colab_type": "code",
        "outputId": "e48df789-f6a4-4856-c40e-47aa0f41650f",
        "colab": {
          "base_uri": "https://localhost:8080/",
          "height": 142
        }
      },
      "source": [
        "# Create Logistic Regression Series\n",
        "LR_dict = {'AUROC' : AUROC_LR,\n",
        "           'Gini' : Gini_LR,\n",
        "           'F1' : F1_LR}\n",
        "LR = pd.Series(LR_dict, name = \"Logistic Regression\")\n",
        "\n",
        "# Create Decision Tree Series\n",
        "DT_dict = {'AUROC' : AUROC_DT,\n",
        "           'Gini' : Gini_DT,\n",
        "           'F1' : F1_DT}\n",
        "DT = pd.Series(DT_dict, name = \"Decision Tree\")\n",
        "\n",
        "# Create Random Forest Series\n",
        "RF_dict = {'AUROC' : AUROC_RF,\n",
        "           'Gini' : Gini_RF,\n",
        "           'F1' : F1_RF}\n",
        "RF = pd.Series(RF_dict, name = \"Random Forest\")\n",
        "\n",
        "# Create Random Forest - Parameterised Series\n",
        "GRID_dict = {'AUROC' : AUROC_GRID,\n",
        "           'Gini' : Gini_GRID,\n",
        "           'F1' : F1_GRID}\n",
        "GRID = pd.Series(GRID_dict, name = \"Random Forest - GridSearchCV\")\n",
        "\n",
        "# Create XGBoost Series\n",
        "XGB_dict = {'AUROC' : AUROC_XGB,\n",
        "           'Gini' : Gini_XGB,\n",
        "           'F1' : F1_XGB}\n",
        "XGB = pd.Series(XGB_dict, name = \"XGBoost\")\n",
        "\n",
        "summary_table = pd.concat([LR, DT, RF, GRID, XGB], axis = 1)\n",
        "summary_table"
      ],
      "execution_count": 0,
      "outputs": [
        {
          "output_type": "execute_result",
          "data": {
            "text/html": [
              "<div>\n",
              "<style scoped>\n",
              "    .dataframe tbody tr th:only-of-type {\n",
              "        vertical-align: middle;\n",
              "    }\n",
              "\n",
              "    .dataframe tbody tr th {\n",
              "        vertical-align: top;\n",
              "    }\n",
              "\n",
              "    .dataframe thead th {\n",
              "        text-align: right;\n",
              "    }\n",
              "</style>\n",
              "<table border=\"1\" class=\"dataframe\">\n",
              "  <thead>\n",
              "    <tr style=\"text-align: right;\">\n",
              "      <th></th>\n",
              "      <th>Logistic Regression</th>\n",
              "      <th>Decision Tree</th>\n",
              "      <th>Random Forest</th>\n",
              "      <th>Random Forest - GridSearchCV</th>\n",
              "      <th>XGBoost</th>\n",
              "    </tr>\n",
              "  </thead>\n",
              "  <tbody>\n",
              "    <tr>\n",
              "      <th>AUROC</th>\n",
              "      <td>0.822359</td>\n",
              "      <td>0.854686</td>\n",
              "      <td>0.935521</td>\n",
              "      <td>0.936151</td>\n",
              "      <td>0.933527</td>\n",
              "    </tr>\n",
              "    <tr>\n",
              "      <th>Gini</th>\n",
              "      <td>0.644719</td>\n",
              "      <td>0.709373</td>\n",
              "      <td>0.871042</td>\n",
              "      <td>0.872302</td>\n",
              "      <td>0.867054</td>\n",
              "    </tr>\n",
              "    <tr>\n",
              "      <th>F1</th>\n",
              "      <td>0.257576</td>\n",
              "      <td>0.740385</td>\n",
              "      <td>0.704403</td>\n",
              "      <td>0.759036</td>\n",
              "      <td>0.802260</td>\n",
              "    </tr>\n",
              "  </tbody>\n",
              "</table>\n",
              "</div>"
            ],
            "text/plain": [
              "       Logistic Regression  ...   XGBoost\n",
              "AUROC             0.822359  ...  0.933527\n",
              "Gini              0.644719  ...  0.867054\n",
              "F1                0.257576  ...  0.802260\n",
              "\n",
              "[3 rows x 5 columns]"
            ]
          },
          "metadata": {
            "tags": []
          },
          "execution_count": 50
        }
      ]
    },
    {
      "cell_type": "markdown",
      "metadata": {
        "id": "-UatEX6X4nmH",
        "colab_type": "text"
      },
      "source": [
        "### Conclusion\n",
        "From the above 4 models, Random Forest and XGBoost models are the clear winner. AUROC and Gini are marginally higher for the tuned Random Forest, while XGBoost's F1 Score is significantly better."
      ]
    },
    {
      "cell_type": "markdown",
      "metadata": {
        "id": "Nq2t0078khZb",
        "colab_type": "text"
      },
      "source": [
        "## Model Application\n",
        "\n",
        "We can now determine the probability of our out-of-sample or new customers churning using any of the above models, segment our customers based on these probabilities and design and implement appropriate strategies accordingly.\n",
        "\n",
        "Using xgb5 (our final XGBoost model) and its predicted probabilities based on the columns of the training dataset, we can determine churn probability of a new customer dataset as long as we have the same columns in the new dataset.\n",
        "\n",
        "The following formula can be used to perform this:\n",
        "* telco_new_customers['churn_probability'] = xgb5.predict_proba(telco[X_train.columns])[:,1]\n",
        "\n",
        "We can then define and assign churn labels to each new customer. Our churn labels will be based on churn probabilities predicted in the formula noted above and can defined as below:\n",
        "\n",
        "* Churners: probability > 0.5\n",
        "* Potential Churners: 0.5 > probability > 0.25\n",
        "* Non-Churners: probability < 0.25\n",
        "\n",
        "Formulas to assing Churn Labels\n",
        "* telco_new_customers['Churn Label'] = 'Non-Churner'\n",
        "* telco_new_customers.loc[telco_new_customers['churn_probability'] > 0.25, 'Churn Label'] = 'Potential Churner' \n",
        "* telco_new_customers.loc[telco_new_customers['churn_probability'] > 0.5, 'Churn Label'] = 'Churner'"
      ]
    }
  ]
}